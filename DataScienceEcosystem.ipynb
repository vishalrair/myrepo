{
 "cells": [
  {
   "cell_type": "markdown",
   "id": "f7e2b68f-27f4-4da4-8b1c-204f29e1e8af",
   "metadata": {},
   "source": [
    "Data Science and Ecosystem"
   ]
  },
  {
   "cell_type": "markdown",
   "id": "5688629b-ee3a-4bd4-b83b-2add2c221920",
   "metadata": {},
   "source": [
    "In this Notebook, Data Science Tools and Ecosystem are summaried"
   ]
  },
  {
   "cell_type": "markdown",
   "id": "72f64c74-eece-483b-bafa-c285973e0133",
   "metadata": {},
   "source": [
    "Some of the Popular languages that Data Scientists use are \n"
   ]
  },
  {
   "cell_type": "code",
   "execution_count": 2,
   "id": "3dc510da-0137-441d-b993-9ffda39426ce",
   "metadata": {},
   "outputs": [
    {
     "name": "stdout",
     "output_type": "stream",
     "text": [
      "Three programming languages used in Data Science\n",
      "1 - Pyhton\n",
      "2 - R\n",
      "3 - Julia\n"
     ]
    }
   ],
   "source": [
    "print('Three programming languages used in Data Science')\n",
    "print('1 - Pyhton')\n",
    "print('2 - R')\n",
    "print('3 - Julia')"
   ]
  },
  {
   "cell_type": "markdown",
   "id": "8e55842a-fbf9-49b0-a0d8-0d34caa10bca",
   "metadata": {},
   "source": [
    "3 Data Science Libraries \n",
    "1-Numpy\n",
    "2-Pandas\n",
    "3-Scikit"
   ]
  },
  {
   "cell_type": "markdown",
   "id": "12c000db-5750-4550-8983-6236a00d0be4",
   "metadata": {},
   "source": [
    "Data Science Tools"
   ]
  },
  {
   "cell_type": "markdown",
   "id": "892f0353-826c-47da-9a9f-5c62d4244f18",
   "metadata": {},
   "source": [
    "1- Jupyter notebooks"
   ]
  },
  {
   "cell_type": "markdown",
   "id": "5593ff92-1567-49c0-832f-d992e288a201",
   "metadata": {},
   "source": [
    "2- Spyder"
   ]
  },
  {
   "cell_type": "markdown",
   "id": "e9de1e4b-84d0-41f6-a05c-c07f3136cb0d",
   "metadata": {},
   "source": [
    "3- RStudio"
   ]
  },
  {
   "cell_type": "markdown",
   "id": "9c5ea790-4a8e-4140-add9-dfcb0e38db75",
   "metadata": {},
   "source": [
    "### Below are the few examples of evaluating arithmatic expressions in python"
   ]
  },
  {
   "cell_type": "code",
   "execution_count": 6,
   "id": "46a4a2de-8047-4a05-84a5-e52b8c671cbd",
   "metadata": {},
   "outputs": [
    {
     "name": "stdout",
     "output_type": "stream",
     "text": [
      "Result: 17\n"
     ]
    }
   ],
   "source": [
    "result = (3 * 4) + 5\n",
    "print(\"Result:\", result)\n"
   ]
  },
  {
   "cell_type": "code",
   "execution_count": 7,
   "id": "d1599819-fd52-4c54-b23c-c4e000f4535a",
   "metadata": {},
   "outputs": [
    {
     "name": "stdout",
     "output_type": "stream",
     "text": [
      "hours 3.3333333333333335\n"
     ]
    }
   ],
   "source": [
    "m = 200\n",
    "hours = m/60\n",
    "print('hours', hours)"
   ]
  },
  {
   "cell_type": "markdown",
   "id": "33719aba-e3d1-46e9-b3ee-269bdb0db689",
   "metadata": {},
   "source": [
    "## Objectives:\n",
    "\n",
    "- Popular languages used in data science\n",
    "- popular tools used in data science\n",
    "- using a markdown cell\n",
    "- arithmatic operation in code cell "
   ]
  },
  {
   "cell_type": "markdown",
   "id": "b98e63e9-6b16-4965-910e-b32cf22a0a0b",
   "metadata": {},
   "source": [
    "## Author\n",
    "\n",
    "Vishal"
   ]
  },
  {
   "cell_type": "code",
   "execution_count": null,
   "id": "87ea23aa-25fd-469e-9755-4d969474bf4c",
   "metadata": {},
   "outputs": [],
   "source": []
  }
 ],
 "metadata": {
  "kernelspec": {
   "display_name": "Python 3 (ipykernel)",
   "language": "python",
   "name": "python3"
  },
  "language_info": {
   "codemirror_mode": {
    "name": "ipython",
    "version": 3
   },
   "file_extension": ".py",
   "mimetype": "text/x-python",
   "name": "python",
   "nbconvert_exporter": "python",
   "pygments_lexer": "ipython3",
   "version": "3.10.9"
  }
 },
 "nbformat": 4,
 "nbformat_minor": 5
}
